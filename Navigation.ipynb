{
 "cells": [
  {
   "cell_type": "code",
   "execution_count": 1,
   "metadata": {},
   "outputs": [],
   "source": [
    "from unityagents import UnityEnvironment\n",
    "from collections import OrderedDict, deque\n",
    "\n",
    "import random\n",
    "import numpy as np\n",
    "\n",
    "import torch\n",
    "import torch.nn as nn\n",
    "import torch.nn.functional as F\n",
    "import torch.optim as optim\n",
    "\n",
    "import matplotlib.pyplot as plt"
   ]
  },
  {
   "cell_type": "code",
   "execution_count": 2,
   "metadata": {},
   "outputs": [
    {
     "name": "stderr",
     "output_type": "stream",
     "text": [
      "INFO:unityagents:\n",
      "'Academy' started successfully!\n",
      "Unity Academy name: Academy\n",
      "        Number of Brains: 1\n",
      "        Number of External Brains : 1\n",
      "        Lesson number : 0\n",
      "        Reset Parameters :\n",
      "\t\t\n",
      "Unity brain name: BananaBrain\n",
      "        Number of Visual Observations (per agent): 0\n",
      "        Vector Observation space type: continuous\n",
      "        Vector Observation space size (per agent): 37\n",
      "        Number of stacked Vector Observation: 1\n",
      "        Vector Action space type: discrete\n",
      "        Vector Action space size (per agent): 4\n",
      "        Vector Action descriptions: , , , \n"
     ]
    }
   ],
   "source": [
    "env = UnityEnvironment(file_name=\"Banana.app\")\n",
    "\n",
    "brain_name = env.brain_names[0]\n",
    "brain = env.brains[brain_name]"
   ]
  },
  {
   "cell_type": "code",
   "execution_count": 3,
   "metadata": {},
   "outputs": [],
   "source": [
    "class Deep_Q_Network(nn.Module):\n",
    "\n",
    "    def __init__(self, input_size, output_size, hidden_layers):\n",
    "        '''\n",
    "        input_size (int): Size of the input layer\n",
    "        output_size (int): Size of the output layer\n",
    "        hidden_layers (Array<int>): Sizes of each of the hidden layers\n",
    "        '''\n",
    "\n",
    "        super(Deep_Q_Network, self).__init__()\n",
    "        self.layers = []\n",
    "\n",
    "        self.layers.append(('fc_first', nn.Linear(input_size, hidden_layers[0])))\n",
    "        self.layers.append(('relu_first', nn.ReLU()))\n",
    "\n",
    "        i = 0\n",
    "        while i < len(hidden_layers) - 1:\n",
    "            self.layers.append(('fc_' + str(i), nn.Linear(hidden_layers[i], hidden_layers[i+1])))\n",
    "            self.layers.append(('relu_' + str(i), nn.ReLU()))\n",
    "            i += 1\n",
    "\n",
    "        self.layers.append(('fc_last', nn.Linear(hidden_layers[len(hidden_layers) - 1], output_size)))\n",
    "        \n",
    "        self.parameters = nn.Sequential(OrderedDict(self.layers))\n",
    "\n",
    "\n",
    "    def forward(self, state):\n",
    "        calculation = state\n",
    "        for layer in range(len(self.layers)):\n",
    "            calculation = self.layers[layer][1](calculation)\n",
    "        return calculation"
   ]
  },
  {
   "cell_type": "code",
   "execution_count": 4,
   "metadata": {},
   "outputs": [],
   "source": [
    "hidden_layers = [128, 64]\n",
    "max_memory = 100000\n",
    "batch_size = 64\n",
    "learning_rate = 0.0005\n",
    "tau = 0.001\n",
    "gamma = 0.99\n",
    "update_every = 4\n",
    "\n",
    "class Agent():\n",
    "    \n",
    "    def __init__(self, state_size, action_size, weights = None):\n",
    "        self.state_size = state_size\n",
    "        self.action_size = action_size\n",
    "        \n",
    "        self.network_local = Deep_Q_Network(self.state_size, self.action_size, hidden_layers)\n",
    "        self.network_target = Deep_Q_Network(self.state_size, self.action_size, hidden_layers)\n",
    "        \n",
    "        if weights is not None:\n",
    "            self.network_local.load_state_dict(weights)\n",
    "            self.network_target.load_state_dict(weights)\n",
    "            \n",
    "        self.optimiser = optim.Adam(self.network_local.parameters(), lr = learning_rate)\n",
    "        \n",
    "        self.memory = deque(maxlen=max_memory)\n",
    "        self.t_step = 0\n",
    "        \n",
    "    def get_action(self, state, epsilon = 0):\n",
    "        \n",
    "        state = torch.from_numpy(state).float().unsqueeze(0)\n",
    "        \n",
    "        self.network_local.eval()\n",
    "        with torch.no_grad():\n",
    "            actions = self.network_local(state)\n",
    "        self.network_local.train()\n",
    "        \n",
    "        if random.random() > epsilon:\n",
    "            return np.argmax(actions.detach().numpy())\n",
    "        else:\n",
    "            return random.choice(np.arange(self.action_size))\n",
    "        \n",
    "        \n",
    "    def train(self, state, action, reward, next_state, done):\n",
    "        self.memory.append({\n",
    "            \"state\": state,\n",
    "            \"action\": action,\n",
    "            \"reward\": reward,\n",
    "            \"next_state\": next_state,\n",
    "            \"done\": done\n",
    "        })\n",
    "        \n",
    "        self.t_step = (self.t_step + 1) % update_every\n",
    "        if self.t_step == 0:\n",
    "            if len(self.memory) > batch_size:\n",
    "                experiences = random.sample(self.memory, k = batch_size)\n",
    "                \n",
    "                states = torch.from_numpy(np.vstack([e['state'] for e in experiences if e is not None])).float()\n",
    "                actions = torch.from_numpy(np.vstack([e['action'] for e in experiences if e is not None])).long()\n",
    "                rewards = torch.from_numpy(np.vstack([e['reward'] for e in experiences if e is not None])).float()\n",
    "                next_states = torch.from_numpy(np.vstack([e['next_state'] for e in experiences if e is not None])).float()\n",
    "                dones = torch.from_numpy(np.vstack([e['done'] for e in experiences if e is not None]).astype(np.uint8)).float()\n",
    "\n",
    "                Q_targets_next = self.network_target(next_states).detach().max(1)[0].unsqueeze(1)\n",
    "                Q_targets = rewards + (gamma * Q_targets_next * (1 - dones))\n",
    "                Q_expected = self.network_local(states).gather(1, actions)\n",
    "                \n",
    "                loss = F.mse_loss(Q_expected, Q_targets)\n",
    "\n",
    "                self.optimiser.zero_grad()\n",
    "                loss.backward()\n",
    "                self.optimiser.step()\n",
    "\n",
    "                # Update params\n",
    "                for target_param, local_param in zip(self.network_target.parameters(), self.network_local.parameters()):\n",
    "                    target_param.data.copy_(tau*local_param.data + (1.0-tau)*target_param.data)\n",
    "                "
   ]
  },
  {
   "cell_type": "markdown",
   "metadata": {},
   "source": [
    "## TRAINING"
   ]
  },
  {
   "cell_type": "code",
   "execution_count": 6,
   "metadata": {},
   "outputs": [
    {
     "name": "stdout",
     "output_type": "stream",
     "text": [
      "Episode 100, Average 0.91\n",
      "Episode 200, Average 3.56\n",
      "Episode 300, Average 7.52\n",
      "Episode 400, Average 9.97\n",
      "Episode 500, Average 13.58\n",
      "Episode 600, Average 13.86\n",
      "Episode 700, Average 15.14\n",
      "Episode 800, Average 14.64\n",
      "Episode 900, Average 15.4\n",
      "Episode 1000, Average 14.81\n"
     ]
    },
    {
     "data": {
      "image/png": "[encoded data removed]",
      "text/plain": [
       "<Figure size 432x288 with 1 Axes>"
      ]
     },
     "metadata": {
      "needs_background": "light"
     },
     "output_type": "display_data"
    }
   ],
   "source": [
    "checkpoint_filename = 'checkpoint.pth'\n",
    "number_of_episodes = 1000\n",
    "\n",
    "epsilon_start = 1.0\n",
    "epsilon_end = 0.01\n",
    "epsilon_decay = 0.995\n",
    "epsilon = epsilon_start\n",
    "\n",
    "env_info = env.reset(train_mode=True)[brain_name]\n",
    "state = env_info.vector_observations[0]\n",
    "state_size = len(state)\n",
    "action_size = brain.vector_action_space_size\n",
    "\n",
    "agent = Agent(state_size, action_size)\n",
    "\n",
    "all_scores = []\n",
    "scores = deque(maxlen=100)\n",
    "\n",
    "state_dict_score = 0\n",
    "\n",
    "checkpoint = torch.load(checkpoint_filename)\n",
    "if checkpoint:\n",
    "    state_dict_score = checkpoint['score']\n",
    "\n",
    "for episode in range(1, number_of_episodes + 1):\n",
    "    env_info = env.reset(train_mode=True)[brain_name]\n",
    "    state = env_info.vector_observations[0]\n",
    "    episode_score = 0\n",
    "\n",
    "    done = False\n",
    "    while not done:\n",
    "        action = agent.get_action(state, epsilon)\n",
    "        env_info = env.step(action)[brain_name]\n",
    "        next_state = env_info.vector_observations[0]\n",
    "        reward = env_info.rewards[0]\n",
    "        done = env_info.local_done[0]\n",
    "\n",
    "        agent.train(state, action, reward, next_state, done)\n",
    "        state = next_state\n",
    "        \n",
    "        # Save scores\n",
    "        episode_score += reward\n",
    "\n",
    "\n",
    "    epsilon = max(epsilon_end, epsilon_decay * epsilon)\n",
    "    scores.append(episode_score)\n",
    "    all_scores.append(episode_score)\n",
    "    \n",
    "    average_score = np.mean(scores)\n",
    "    \n",
    "    if episode % 100 == 0:\n",
    "        print('Episode {}, Average {}'.format(episode, average_score))\n",
    "    \n",
    "    if average_score > state_dict_score:\n",
    "        state_dict_score = average_score\n",
    "        torch.save({\n",
    "            \"score\": average_score,\n",
    "            \"state_dict\": agent.network_local.state_dict()\n",
    "        }, checkpoint_filename)\n",
    "\n",
    "# plot the scores\n",
    "fig = plt.figure()\n",
    "ax = fig.add_subplot(111)\n",
    "plt.plot(np.arange(len(all_scores)), all_scores)\n",
    "plt.ylabel('Score')\n",
    "plt.xlabel('Episode #')\n",
    "plt.show()"
   ]
  },
  {
   "cell_type": "markdown",
   "metadata": {},
   "source": [
    "## Playback"
   ]
  },
  {
   "cell_type": "code",
   "execution_count": 7,
   "metadata": {},
   "outputs": [
    {
     "name": "stdout",
     "output_type": "stream",
     "text": [
      "Loading checkpoint with score of  17.35\n"
     ]
    }
   ],
   "source": [
    "checkpoint_filename = 'checkpoint.pth'\n",
    "checkpoint = torch.load(checkpoint_filename)\n",
    "\n",
    "print('Loading checkpoint with score of ', checkpoint['score'])\n",
    "\n",
    "env_info = env.reset(train_mode=False)[brain_name]\n",
    "state = env_info.vector_observations[0]\n",
    "state_size = len(state)\n",
    "action_size = brain.vector_action_space_size\n",
    "\n",
    "agent = Agent(state_size, action_size, checkpoint['state_dict'])\n",
    "\n",
    "done = False\n",
    "while not done:\n",
    "    action = agent.get_action(state)\n",
    "    env_info = env.step(action)[brain_name]\n",
    "    next_state = env_info.vector_observations[0]\n",
    "    reward = env_info.rewards[0]\n",
    "    done = env_info.local_done[0]\n",
    "    state = next_state\n"
   ]
  },
  {
   "cell_type": "code",
   "execution_count": 8,
   "metadata": {},
   "outputs": [],
   "source": [
    "## To close the unity environment\n",
    "env.close()"
   ]
  },
  {
   "cell_type": "code",
   "execution_count": null,
   "metadata": {},
   "outputs": [],
   "source": []
  },
  {
   "cell_type": "code",
   "execution_count": null,
   "metadata": {},
   "outputs": [],
   "source": []
  }
 ],
 "metadata": {
  "kernelspec": {
   "display_name": "Python [conda env:drlnd]",
   "language": "python",
   "name": "conda-env-drlnd-py"
  },
  "language_info": {
   "codemirror_mode": {
    "name": "ipython",
    "version": 3
   },
   "file_extension": ".py",
   "mimetype": "text/x-python",
   "name": "python",
   "nbconvert_exporter": "python",
   "pygments_lexer": "ipython3",
   "version": "3.6.7"
  }
 },
 "nbformat": 4,
 "nbformat_minor": 2
}
